{
  "cells": [
    {
      "cell_type": "markdown",
      "metadata": {
        "id": "zBjBtIVDotma"
      },
      "source": [
        "# **Proyek Analisis Data: Bike Sharing Dataset**\n",
        "**Nama:** Muhammad Prawira Saragih  \n",
        "**Email:** muhammadprawira@students.usu.ac.id    \n",
        "**ID Dicoding:** MC319D5Y0403\n"
      ]
    },
    {
      "cell_type": "markdown",
      "metadata": {
        "id": "FJresqeSotmc"
      },
      "source": [
        "## **Menentukan Pertanyaan Bisnis**\n",
        "- **Pertanyaan 1:** Bagaimana pola penggunaan sepeda berdasarkan waktu?\n",
        "- **Pertanyaan 2:** Bagaimana pengaruh cuaca terhadap jumlah peminjaman sepeda?\n"
      ]
    },
    {
      "cell_type": "markdown",
      "metadata": {
        "id": "EOC0cSUTotmc"
      },
      "source": [
        "## **Import Semua Packages/Library yang Digunakan**"
      ]
    },
    {
      "cell_type": "code",
      "source": [
        "from google.colab import files\n",
        "\n",
        "uploaded = files.upload()"
      ],
      "metadata": {
        "colab": {
          "base_uri": "https://localhost:8080/",
          "height": 73
        },
        "id": "yN4fVXQ0p8d-",
        "outputId": "782555c4-60e8-487b-dd0e-cd38a1ad77f6"
      },
      "execution_count": 3,
      "outputs": [
        {
          "output_type": "display_data",
          "data": {
            "text/plain": [
              "<IPython.core.display.HTML object>"
            ],
            "text/html": [
              "\n",
              "     <input type=\"file\" id=\"files-bf6cf04b-01b9-4ffa-bfc0-41365a8148c6\" name=\"files[]\" multiple disabled\n",
              "        style=\"border:none\" />\n",
              "     <output id=\"result-bf6cf04b-01b9-4ffa-bfc0-41365a8148c6\">\n",
              "      Upload widget is only available when the cell has been executed in the\n",
              "      current browser session. Please rerun this cell to enable.\n",
              "      </output>\n",
              "      <script>// Copyright 2017 Google LLC\n",
              "//\n",
              "// Licensed under the Apache License, Version 2.0 (the \"License\");\n",
              "// you may not use this file except in compliance with the License.\n",
              "// You may obtain a copy of the License at\n",
              "//\n",
              "//      http://www.apache.org/licenses/LICENSE-2.0\n",
              "//\n",
              "// Unless required by applicable law or agreed to in writing, software\n",
              "// distributed under the License is distributed on an \"AS IS\" BASIS,\n",
              "// WITHOUT WARRANTIES OR CONDITIONS OF ANY KIND, either express or implied.\n",
              "// See the License for the specific language governing permissions and\n",
              "// limitations under the License.\n",
              "\n",
              "/**\n",
              " * @fileoverview Helpers for google.colab Python module.\n",
              " */\n",
              "(function(scope) {\n",
              "function span(text, styleAttributes = {}) {\n",
              "  const element = document.createElement('span');\n",
              "  element.textContent = text;\n",
              "  for (const key of Object.keys(styleAttributes)) {\n",
              "    element.style[key] = styleAttributes[key];\n",
              "  }\n",
              "  return element;\n",
              "}\n",
              "\n",
              "// Max number of bytes which will be uploaded at a time.\n",
              "const MAX_PAYLOAD_SIZE = 100 * 1024;\n",
              "\n",
              "function _uploadFiles(inputId, outputId) {\n",
              "  const steps = uploadFilesStep(inputId, outputId);\n",
              "  const outputElement = document.getElementById(outputId);\n",
              "  // Cache steps on the outputElement to make it available for the next call\n",
              "  // to uploadFilesContinue from Python.\n",
              "  outputElement.steps = steps;\n",
              "\n",
              "  return _uploadFilesContinue(outputId);\n",
              "}\n",
              "\n",
              "// This is roughly an async generator (not supported in the browser yet),\n",
              "// where there are multiple asynchronous steps and the Python side is going\n",
              "// to poll for completion of each step.\n",
              "// This uses a Promise to block the python side on completion of each step,\n",
              "// then passes the result of the previous step as the input to the next step.\n",
              "function _uploadFilesContinue(outputId) {\n",
              "  const outputElement = document.getElementById(outputId);\n",
              "  const steps = outputElement.steps;\n",
              "\n",
              "  const next = steps.next(outputElement.lastPromiseValue);\n",
              "  return Promise.resolve(next.value.promise).then((value) => {\n",
              "    // Cache the last promise value to make it available to the next\n",
              "    // step of the generator.\n",
              "    outputElement.lastPromiseValue = value;\n",
              "    return next.value.response;\n",
              "  });\n",
              "}\n",
              "\n",
              "/**\n",
              " * Generator function which is called between each async step of the upload\n",
              " * process.\n",
              " * @param {string} inputId Element ID of the input file picker element.\n",
              " * @param {string} outputId Element ID of the output display.\n",
              " * @return {!Iterable<!Object>} Iterable of next steps.\n",
              " */\n",
              "function* uploadFilesStep(inputId, outputId) {\n",
              "  const inputElement = document.getElementById(inputId);\n",
              "  inputElement.disabled = false;\n",
              "\n",
              "  const outputElement = document.getElementById(outputId);\n",
              "  outputElement.innerHTML = '';\n",
              "\n",
              "  const pickedPromise = new Promise((resolve) => {\n",
              "    inputElement.addEventListener('change', (e) => {\n",
              "      resolve(e.target.files);\n",
              "    });\n",
              "  });\n",
              "\n",
              "  const cancel = document.createElement('button');\n",
              "  inputElement.parentElement.appendChild(cancel);\n",
              "  cancel.textContent = 'Cancel upload';\n",
              "  const cancelPromise = new Promise((resolve) => {\n",
              "    cancel.onclick = () => {\n",
              "      resolve(null);\n",
              "    };\n",
              "  });\n",
              "\n",
              "  // Wait for the user to pick the files.\n",
              "  const files = yield {\n",
              "    promise: Promise.race([pickedPromise, cancelPromise]),\n",
              "    response: {\n",
              "      action: 'starting',\n",
              "    }\n",
              "  };\n",
              "\n",
              "  cancel.remove();\n",
              "\n",
              "  // Disable the input element since further picks are not allowed.\n",
              "  inputElement.disabled = true;\n",
              "\n",
              "  if (!files) {\n",
              "    return {\n",
              "      response: {\n",
              "        action: 'complete',\n",
              "      }\n",
              "    };\n",
              "  }\n",
              "\n",
              "  for (const file of files) {\n",
              "    const li = document.createElement('li');\n",
              "    li.append(span(file.name, {fontWeight: 'bold'}));\n",
              "    li.append(span(\n",
              "        `(${file.type || 'n/a'}) - ${file.size} bytes, ` +\n",
              "        `last modified: ${\n",
              "            file.lastModifiedDate ? file.lastModifiedDate.toLocaleDateString() :\n",
              "                                    'n/a'} - `));\n",
              "    const percent = span('0% done');\n",
              "    li.appendChild(percent);\n",
              "\n",
              "    outputElement.appendChild(li);\n",
              "\n",
              "    const fileDataPromise = new Promise((resolve) => {\n",
              "      const reader = new FileReader();\n",
              "      reader.onload = (e) => {\n",
              "        resolve(e.target.result);\n",
              "      };\n",
              "      reader.readAsArrayBuffer(file);\n",
              "    });\n",
              "    // Wait for the data to be ready.\n",
              "    let fileData = yield {\n",
              "      promise: fileDataPromise,\n",
              "      response: {\n",
              "        action: 'continue',\n",
              "      }\n",
              "    };\n",
              "\n",
              "    // Use a chunked sending to avoid message size limits. See b/62115660.\n",
              "    let position = 0;\n",
              "    do {\n",
              "      const length = Math.min(fileData.byteLength - position, MAX_PAYLOAD_SIZE);\n",
              "      const chunk = new Uint8Array(fileData, position, length);\n",
              "      position += length;\n",
              "\n",
              "      const base64 = btoa(String.fromCharCode.apply(null, chunk));\n",
              "      yield {\n",
              "        response: {\n",
              "          action: 'append',\n",
              "          file: file.name,\n",
              "          data: base64,\n",
              "        },\n",
              "      };\n",
              "\n",
              "      let percentDone = fileData.byteLength === 0 ?\n",
              "          100 :\n",
              "          Math.round((position / fileData.byteLength) * 100);\n",
              "      percent.textContent = `${percentDone}% done`;\n",
              "\n",
              "    } while (position < fileData.byteLength);\n",
              "  }\n",
              "\n",
              "  // All done.\n",
              "  yield {\n",
              "    response: {\n",
              "      action: 'complete',\n",
              "    }\n",
              "  };\n",
              "}\n",
              "\n",
              "scope.google = scope.google || {};\n",
              "scope.google.colab = scope.google.colab || {};\n",
              "scope.google.colab._files = {\n",
              "  _uploadFiles,\n",
              "  _uploadFilesContinue,\n",
              "};\n",
              "})(self);\n",
              "</script> "
            ]
          },
          "metadata": {}
        },
        {
          "output_type": "stream",
          "name": "stdout",
          "text": [
            "Saving Bike-sharing-dataset.zip to Bike-sharing-dataset.zip\n"
          ]
        }
      ]
    },
    {
      "cell_type": "code",
      "metadata": {
        "id": "DHEZBOYGotmc"
      },
      "source": [
        "import pandas as pd\n",
        "import numpy as np\n",
        "import matplotlib.pyplot as plt\n",
        "import seaborn as sns\n",
        "%matplotlib inline\n",
        "import zipfile\n",
        "import os"
      ],
      "execution_count": 4,
      "outputs": []
    },
    {
      "cell_type": "code",
      "source": [
        "zip_path = \"Bike-sharing-dataset.zip\"\n",
        "extract_path = \"bike_sharing\"\n",
        "\n",
        "with zipfile.ZipFile(zip_path, 'r') as zip_ref:\n",
        "    zip_ref.extractall(extract_path)\n",
        "\n",
        "os.listdir(extract_path)"
      ],
      "metadata": {
        "colab": {
          "base_uri": "https://localhost:8080/"
        },
        "id": "Ik64z9fd5HRM",
        "outputId": "6f6aef1a-d44f-4b5c-feea-1eb92e792cca"
      },
      "execution_count": 5,
      "outputs": [
        {
          "output_type": "execute_result",
          "data": {
            "text/plain": [
              "['Readme.txt', 'hour.csv', 'day.csv']"
            ]
          },
          "metadata": {},
          "execution_count": 5
        }
      ]
    },
    {
      "cell_type": "markdown",
      "metadata": {
        "id": "uP_9c_Wyotmc"
      },
      "source": [
        "# **Data Wrangling**\n",
        "## **Gathering Data**"
      ]
    },
    {
      "cell_type": "code",
      "metadata": {
        "colab": {
          "base_uri": "https://localhost:8080/"
        },
        "id": "VzJUe2cWotmd",
        "outputId": "e10f0038-a8dd-4841-b720-3ed327a5ca18"
      },
      "source": [
        "hour_df = pd.read_csv(\"bike_sharing/hour.csv\")\n",
        "day_df = pd.read_csv(\"bike_sharing/day.csv\")\n",
        "hour_df.head(), day_df.head()"
      ],
      "execution_count": 6,
      "outputs": [
        {
          "output_type": "execute_result",
          "data": {
            "text/plain": [
              "(   instant      dteday  season  yr  mnth  hr  holiday  weekday  workingday  \\\n",
              " 0        1  2011-01-01       1   0     1   0        0        6           0   \n",
              " 1        2  2011-01-01       1   0     1   1        0        6           0   \n",
              " 2        3  2011-01-01       1   0     1   2        0        6           0   \n",
              " 3        4  2011-01-01       1   0     1   3        0        6           0   \n",
              " 4        5  2011-01-01       1   0     1   4        0        6           0   \n",
              " \n",
              "    weathersit  temp   atemp   hum  windspeed  casual  registered  cnt  \n",
              " 0           1  0.24  0.2879  0.81        0.0       3          13   16  \n",
              " 1           1  0.22  0.2727  0.80        0.0       8          32   40  \n",
              " 2           1  0.22  0.2727  0.80        0.0       5          27   32  \n",
              " 3           1  0.24  0.2879  0.75        0.0       3          10   13  \n",
              " 4           1  0.24  0.2879  0.75        0.0       0           1    1  ,\n",
              "    instant      dteday  season  yr  mnth  holiday  weekday  workingday  \\\n",
              " 0        1  2011-01-01       1   0     1        0        6           0   \n",
              " 1        2  2011-01-02       1   0     1        0        0           0   \n",
              " 2        3  2011-01-03       1   0     1        0        1           1   \n",
              " 3        4  2011-01-04       1   0     1        0        2           1   \n",
              " 4        5  2011-01-05       1   0     1        0        3           1   \n",
              " \n",
              "    weathersit      temp     atemp       hum  windspeed  casual  registered  \\\n",
              " 0           2  0.344167  0.363625  0.805833   0.160446     331         654   \n",
              " 1           2  0.363478  0.353739  0.696087   0.248539     131         670   \n",
              " 2           1  0.196364  0.189405  0.437273   0.248309     120        1229   \n",
              " 3           1  0.200000  0.212122  0.590435   0.160296     108        1454   \n",
              " 4           1  0.226957  0.229270  0.436957   0.186900      82        1518   \n",
              " \n",
              "     cnt  \n",
              " 0   985  \n",
              " 1   801  \n",
              " 2  1349  \n",
              " 3  1562  \n",
              " 4  1600  )"
            ]
          },
          "metadata": {},
          "execution_count": 6
        }
      ]
    },
    {
      "cell_type": "markdown",
      "metadata": {
        "id": "qZE9G4YYotmd"
      },
      "source": [
        "### **Insight:**\n",
        "Tren peminjaman sepeda menunjukkan bahwa jumlah peminjaman lebih tinggi pada jam sibuk, yaitu pagi (07:00-09:00) dan sore (17:00-19:00), sementara pada malam hari (00:00-06:00) cenderung rendah. Pada hari kerja, jumlah peminjaman lebih banyak, terutama oleh pengguna terdaftar, sedangkan pada akhir pekan, pengguna kasual lebih dominan. Musim panas (season=3) memiliki jumlah peminjaman tertinggi, sementara musim dingin (season=1) lebih rendah karena cuaca yang dingin. Kondisi cuaca juga mempengaruhi, dengan cuaca cerah (weathersit=1) menghasilkan peminjaman tertinggi, sementara cuaca buruk (weathersit=3 atau 4) menurunkan jumlah peminjaman. Faktor lingkungan seperti suhu (temp, atemp) menunjukkan korelasi positif dengan peminjaman, di mana semakin hangat cuaca, semakin tinggi peminjaman, sementara kelembaban (hum) memiliki korelasi negatif, mengurangi jumlah peminjaman. Kecepatan angin (windspeed) tidak terlalu memengaruhi jumlah peminjaman.\n"
      ]
    },
    {
      "cell_type": "markdown",
      "metadata": {
        "id": "a-bY668Aotmd"
      },
      "source": [
        "## **Assessing Data**"
      ]
    },
    {
      "cell_type": "code",
      "metadata": {
        "colab": {
          "base_uri": "https://localhost:8080/"
        },
        "id": "JnyU2HpTotmd",
        "outputId": "cade6550-e28b-456c-d410-c60561f2374b"
      },
      "source": [
        "print(\"Informasi Dataset hour_df:\")\n",
        "hour_df.info()\n",
        "print(\"\\nInformasi Dataset day_df:\")\n",
        "day_df.info()\n",
        "\n",
        "print(\"\\nJumlah Missing Values di hour_df:\")\n",
        "print(hour_df.isnull().sum())\n",
        "\n",
        "print(\"\\nJumlah Missing Values di day_df:\")\n",
        "print(day_df.isnull().sum())\n",
        "\n",
        "print(\"\\nJumlah Duplikasi di hour_df:\", hour_df.duplicated().sum())\n",
        "print(\"Jumlah Duplikasi di day_df:\", day_df.duplicated().sum())\n",
        "\n",
        "print(\"\\nStatistik Deskriptif hour_df:\")\n",
        "print(hour_df.describe())\n",
        "\n",
        "print(\"\\nStatistik Deskriptif day_df:\")\n",
        "print(day_df.describe())\n"
      ],
      "execution_count": 7,
      "outputs": [
        {
          "output_type": "stream",
          "name": "stdout",
          "text": [
            "Informasi Dataset hour_df:\n",
            "<class 'pandas.core.frame.DataFrame'>\n",
            "RangeIndex: 17379 entries, 0 to 17378\n",
            "Data columns (total 17 columns):\n",
            " #   Column      Non-Null Count  Dtype  \n",
            "---  ------      --------------  -----  \n",
            " 0   instant     17379 non-null  int64  \n",
            " 1   dteday      17379 non-null  object \n",
            " 2   season      17379 non-null  int64  \n",
            " 3   yr          17379 non-null  int64  \n",
            " 4   mnth        17379 non-null  int64  \n",
            " 5   hr          17379 non-null  int64  \n",
            " 6   holiday     17379 non-null  int64  \n",
            " 7   weekday     17379 non-null  int64  \n",
            " 8   workingday  17379 non-null  int64  \n",
            " 9   weathersit  17379 non-null  int64  \n",
            " 10  temp        17379 non-null  float64\n",
            " 11  atemp       17379 non-null  float64\n",
            " 12  hum         17379 non-null  float64\n",
            " 13  windspeed   17379 non-null  float64\n",
            " 14  casual      17379 non-null  int64  \n",
            " 15  registered  17379 non-null  int64  \n",
            " 16  cnt         17379 non-null  int64  \n",
            "dtypes: float64(4), int64(12), object(1)\n",
            "memory usage: 2.3+ MB\n",
            "\n",
            "Informasi Dataset day_df:\n",
            "<class 'pandas.core.frame.DataFrame'>\n",
            "RangeIndex: 731 entries, 0 to 730\n",
            "Data columns (total 16 columns):\n",
            " #   Column      Non-Null Count  Dtype  \n",
            "---  ------      --------------  -----  \n",
            " 0   instant     731 non-null    int64  \n",
            " 1   dteday      731 non-null    object \n",
            " 2   season      731 non-null    int64  \n",
            " 3   yr          731 non-null    int64  \n",
            " 4   mnth        731 non-null    int64  \n",
            " 5   holiday     731 non-null    int64  \n",
            " 6   weekday     731 non-null    int64  \n",
            " 7   workingday  731 non-null    int64  \n",
            " 8   weathersit  731 non-null    int64  \n",
            " 9   temp        731 non-null    float64\n",
            " 10  atemp       731 non-null    float64\n",
            " 11  hum         731 non-null    float64\n",
            " 12  windspeed   731 non-null    float64\n",
            " 13  casual      731 non-null    int64  \n",
            " 14  registered  731 non-null    int64  \n",
            " 15  cnt         731 non-null    int64  \n",
            "dtypes: float64(4), int64(11), object(1)\n",
            "memory usage: 91.5+ KB\n",
            "\n",
            "Jumlah Missing Values di hour_df:\n",
            "instant       0\n",
            "dteday        0\n",
            "season        0\n",
            "yr            0\n",
            "mnth          0\n",
            "hr            0\n",
            "holiday       0\n",
            "weekday       0\n",
            "workingday    0\n",
            "weathersit    0\n",
            "temp          0\n",
            "atemp         0\n",
            "hum           0\n",
            "windspeed     0\n",
            "casual        0\n",
            "registered    0\n",
            "cnt           0\n",
            "dtype: int64\n",
            "\n",
            "Jumlah Missing Values di day_df:\n",
            "instant       0\n",
            "dteday        0\n",
            "season        0\n",
            "yr            0\n",
            "mnth          0\n",
            "holiday       0\n",
            "weekday       0\n",
            "workingday    0\n",
            "weathersit    0\n",
            "temp          0\n",
            "atemp         0\n",
            "hum           0\n",
            "windspeed     0\n",
            "casual        0\n",
            "registered    0\n",
            "cnt           0\n",
            "dtype: int64\n",
            "\n",
            "Jumlah Duplikasi di hour_df: 0\n",
            "Jumlah Duplikasi di day_df: 0\n",
            "\n",
            "Statistik Deskriptif hour_df:\n",
            "          instant        season            yr          mnth            hr  \\\n",
            "count  17379.0000  17379.000000  17379.000000  17379.000000  17379.000000   \n",
            "mean    8690.0000      2.501640      0.502561      6.537775     11.546752   \n",
            "std     5017.0295      1.106918      0.500008      3.438776      6.914405   \n",
            "min        1.0000      1.000000      0.000000      1.000000      0.000000   \n",
            "25%     4345.5000      2.000000      0.000000      4.000000      6.000000   \n",
            "50%     8690.0000      3.000000      1.000000      7.000000     12.000000   \n",
            "75%    13034.5000      3.000000      1.000000     10.000000     18.000000   \n",
            "max    17379.0000      4.000000      1.000000     12.000000     23.000000   \n",
            "\n",
            "            holiday       weekday    workingday    weathersit          temp  \\\n",
            "count  17379.000000  17379.000000  17379.000000  17379.000000  17379.000000   \n",
            "mean       0.028770      3.003683      0.682721      1.425283      0.496987   \n",
            "std        0.167165      2.005771      0.465431      0.639357      0.192556   \n",
            "min        0.000000      0.000000      0.000000      1.000000      0.020000   \n",
            "25%        0.000000      1.000000      0.000000      1.000000      0.340000   \n",
            "50%        0.000000      3.000000      1.000000      1.000000      0.500000   \n",
            "75%        0.000000      5.000000      1.000000      2.000000      0.660000   \n",
            "max        1.000000      6.000000      1.000000      4.000000      1.000000   \n",
            "\n",
            "              atemp           hum     windspeed        casual    registered  \\\n",
            "count  17379.000000  17379.000000  17379.000000  17379.000000  17379.000000   \n",
            "mean       0.475775      0.627229      0.190098     35.676218    153.786869   \n",
            "std        0.171850      0.192930      0.122340     49.305030    151.357286   \n",
            "min        0.000000      0.000000      0.000000      0.000000      0.000000   \n",
            "25%        0.333300      0.480000      0.104500      4.000000     34.000000   \n",
            "50%        0.484800      0.630000      0.194000     17.000000    115.000000   \n",
            "75%        0.621200      0.780000      0.253700     48.000000    220.000000   \n",
            "max        1.000000      1.000000      0.850700    367.000000    886.000000   \n",
            "\n",
            "                cnt  \n",
            "count  17379.000000  \n",
            "mean     189.463088  \n",
            "std      181.387599  \n",
            "min        1.000000  \n",
            "25%       40.000000  \n",
            "50%      142.000000  \n",
            "75%      281.000000  \n",
            "max      977.000000  \n",
            "\n",
            "Statistik Deskriptif day_df:\n",
            "          instant      season          yr        mnth     holiday     weekday  \\\n",
            "count  731.000000  731.000000  731.000000  731.000000  731.000000  731.000000   \n",
            "mean   366.000000    2.496580    0.500684    6.519836    0.028728    2.997264   \n",
            "std    211.165812    1.110807    0.500342    3.451913    0.167155    2.004787   \n",
            "min      1.000000    1.000000    0.000000    1.000000    0.000000    0.000000   \n",
            "25%    183.500000    2.000000    0.000000    4.000000    0.000000    1.000000   \n",
            "50%    366.000000    3.000000    1.000000    7.000000    0.000000    3.000000   \n",
            "75%    548.500000    3.000000    1.000000   10.000000    0.000000    5.000000   \n",
            "max    731.000000    4.000000    1.000000   12.000000    1.000000    6.000000   \n",
            "\n",
            "       workingday  weathersit        temp       atemp         hum   windspeed  \\\n",
            "count  731.000000  731.000000  731.000000  731.000000  731.000000  731.000000   \n",
            "mean     0.683995    1.395349    0.495385    0.474354    0.627894    0.190486   \n",
            "std      0.465233    0.544894    0.183051    0.162961    0.142429    0.077498   \n",
            "min      0.000000    1.000000    0.059130    0.079070    0.000000    0.022392   \n",
            "25%      0.000000    1.000000    0.337083    0.337842    0.520000    0.134950   \n",
            "50%      1.000000    1.000000    0.498333    0.486733    0.626667    0.180975   \n",
            "75%      1.000000    2.000000    0.655417    0.608602    0.730209    0.233214   \n",
            "max      1.000000    3.000000    0.861667    0.840896    0.972500    0.507463   \n",
            "\n",
            "            casual   registered          cnt  \n",
            "count   731.000000   731.000000   731.000000  \n",
            "mean    848.176471  3656.172367  4504.348837  \n",
            "std     686.622488  1560.256377  1937.211452  \n",
            "min       2.000000    20.000000    22.000000  \n",
            "25%     315.500000  2497.000000  3152.000000  \n",
            "50%     713.000000  3662.000000  4548.000000  \n",
            "75%    1096.000000  4776.500000  5956.000000  \n",
            "max    3410.000000  6946.000000  8714.000000  \n"
          ]
        }
      ]
    },
    {
      "cell_type": "markdown",
      "metadata": {
        "id": "_F26krA8otmd"
      },
      "source": [
        "### **Insight:**\n",
        "Dataset Bike Sharing ini terdiri dari dua bagian: hour_df (data per jam) dan day_df (data per hari). Tidak ada missing values atau duplikasi, sehingga datanya bersih. Dari statistiknya, jumlah penyewaan sepeda (cnt) memiliki distribusi yang cukup bervariasi, dengan rata-rata sekitar 189 per jam dan 4504 per hari. Mayoritas penyewaan dilakukan oleh pengguna terdaftar (registered) dibandingkan pengguna kasual (casual). Suhu (temp) berkisar antara 0.02 hingga 1.00 (nilai yang sudah dinormalisasi), dengan kelembaban (hum) dan kecepatan angin (windspeed) menunjukkan variasi yang cukup lebar. Sebagian besar hari dalam dataset bukan hari libur, dengan mayoritas penyewaan terjadi saat hari kerja (workingday = 1). Tren ini menunjukkan bahwa layanan penyewaan sepeda lebih sering digunakan sebagai transportasi sehari-hari oleh pengguna tetap, bukan sekadar rekreasi."
      ]
    },
    {
      "cell_type": "markdown",
      "metadata": {
        "id": "uWfXuGMQotmd"
      },
      "source": [
        "## **Cleaning Data**"
      ]
    },
    {
      "cell_type": "code",
      "metadata": {
        "colab": {
          "base_uri": "https://localhost:8080/"
        },
        "id": "-9DlrUBpotmd",
        "outputId": "4257c936-e033-495c-d1ab-9d63390e9076"
      },
      "source": [
        "hour_df['dteday'] = pd.to_datetime(hour_df['dteday'])\n",
        "day_df['dteday'] = pd.to_datetime(day_df['dteday'])\n",
        "\n",
        "print(hour_df.dtypes)\n",
        "print(day_df.dtypes)\n",
        "\n",
        "print(\"Missing values pada hour_df:\")\n",
        "print(hour_df.isnull().sum())\n",
        "\n",
        "print(\"\\nMissing values pada day_df:\")\n",
        "print(day_df.isnull().sum())\n",
        "\n",
        "print(\"Jumlah data duplikat di hour_df:\", hour_df.duplicated().sum())\n",
        "print(\"Jumlah data duplikat di day_df:\", day_df.duplicated().sum())"
      ],
      "execution_count": 9,
      "outputs": [
        {
          "output_type": "stream",
          "name": "stdout",
          "text": [
            "instant                int64\n",
            "dteday        datetime64[ns]\n",
            "season                 int64\n",
            "yr                     int64\n",
            "mnth                   int64\n",
            "hr                     int64\n",
            "holiday                int64\n",
            "weekday                int64\n",
            "workingday             int64\n",
            "weathersit             int64\n",
            "temp                 float64\n",
            "atemp                float64\n",
            "hum                  float64\n",
            "windspeed            float64\n",
            "casual                 int64\n",
            "registered             int64\n",
            "cnt                    int64\n",
            "dtype: object\n",
            "instant                int64\n",
            "dteday        datetime64[ns]\n",
            "season                 int64\n",
            "yr                     int64\n",
            "mnth                   int64\n",
            "holiday                int64\n",
            "weekday                int64\n",
            "workingday             int64\n",
            "weathersit             int64\n",
            "temp                 float64\n",
            "atemp                float64\n",
            "hum                  float64\n",
            "windspeed            float64\n",
            "casual                 int64\n",
            "registered             int64\n",
            "cnt                    int64\n",
            "dtype: object\n",
            "Missing values pada hour_df:\n",
            "instant       0\n",
            "dteday        0\n",
            "season        0\n",
            "yr            0\n",
            "mnth          0\n",
            "hr            0\n",
            "holiday       0\n",
            "weekday       0\n",
            "workingday    0\n",
            "weathersit    0\n",
            "temp          0\n",
            "atemp         0\n",
            "hum           0\n",
            "windspeed     0\n",
            "casual        0\n",
            "registered    0\n",
            "cnt           0\n",
            "dtype: int64\n",
            "\n",
            "Missing values pada day_df:\n",
            "instant       0\n",
            "dteday        0\n",
            "season        0\n",
            "yr            0\n",
            "mnth          0\n",
            "holiday       0\n",
            "weekday       0\n",
            "workingday    0\n",
            "weathersit    0\n",
            "temp          0\n",
            "atemp         0\n",
            "hum           0\n",
            "windspeed     0\n",
            "casual        0\n",
            "registered    0\n",
            "cnt           0\n",
            "dtype: int64\n",
            "Jumlah data duplikat di hour_df: 0\n",
            "Jumlah data duplikat di day_df: 0\n"
          ]
        }
      ]
    },
    {
      "cell_type": "markdown",
      "metadata": {
        "id": "f1wk0onbotmd"
      },
      "source": [
        "### **Insight:**\n",
        "Dataset Bike Sharing ini memiliki kualitas data yang baik karena tidak terdapat missing values atau duplikasi, sehingga tidak memerlukan proses imputasi atau deduplikasi. Dengan data yang bersih dan terstruktur, analisis dapat langsung dilakukan tanpa perlu banyak preprocessing. Namun, ada potensi perbaikan seperti mengubah kolom dteday menjadi format datetime untuk mempermudah analisis berbasis waktu. Selain itu, kita bisa membuat fitur tambahan seperti rata-rata peminjaman berdasarkan musim, hari kerja/libur, atau kondisi cuaca guna mendapatkan wawasan yang lebih mendalam.\n"
      ]
    },
    {
      "cell_type": "markdown",
      "metadata": {
        "id": "qpjbUjCiotme"
      },
      "source": [
        "# **Exploratory Data Analysis (EDA)**"
      ]
    },
    {
      "cell_type": "code",
      "metadata": {
        "colab": {
          "base_uri": "https://localhost:8080/"
        },
        "id": "A4OXZI0cotme",
        "outputId": "99d47d67-ad83-48f6-fa0f-ddec88675629"
      },
      "source": [
        "hour_df.describe(), day_df.describe()"
      ],
      "execution_count": null,
      "outputs": [
        {
          "output_type": "execute_result",
          "data": {
            "text/plain": [
              "(          instant        season            yr          mnth            hr  \\\n",
              " count  17379.0000  17379.000000  17379.000000  17379.000000  17379.000000   \n",
              " mean    8690.0000      2.501640      0.502561      6.537775     11.546752   \n",
              " std     5017.0295      1.106918      0.500008      3.438776      6.914405   \n",
              " min        1.0000      1.000000      0.000000      1.000000      0.000000   \n",
              " 25%     4345.5000      2.000000      0.000000      4.000000      6.000000   \n",
              " 50%     8690.0000      3.000000      1.000000      7.000000     12.000000   \n",
              " 75%    13034.5000      3.000000      1.000000     10.000000     18.000000   \n",
              " max    17379.0000      4.000000      1.000000     12.000000     23.000000   \n",
              " \n",
              "             holiday       weekday    workingday    weathersit          temp  \\\n",
              " count  17379.000000  17379.000000  17379.000000  17379.000000  17379.000000   \n",
              " mean       0.028770      3.003683      0.682721      1.425283      0.496987   \n",
              " std        0.167165      2.005771      0.465431      0.639357      0.192556   \n",
              " min        0.000000      0.000000      0.000000      1.000000      0.020000   \n",
              " 25%        0.000000      1.000000      0.000000      1.000000      0.340000   \n",
              " 50%        0.000000      3.000000      1.000000      1.000000      0.500000   \n",
              " 75%        0.000000      5.000000      1.000000      2.000000      0.660000   \n",
              " max        1.000000      6.000000      1.000000      4.000000      1.000000   \n",
              " \n",
              "               atemp           hum     windspeed        casual    registered  \\\n",
              " count  17379.000000  17379.000000  17379.000000  17379.000000  17379.000000   \n",
              " mean       0.475775      0.627229      0.190098     35.676218    153.786869   \n",
              " std        0.171850      0.192930      0.122340     49.305030    151.357286   \n",
              " min        0.000000      0.000000      0.000000      0.000000      0.000000   \n",
              " 25%        0.333300      0.480000      0.104500      4.000000     34.000000   \n",
              " 50%        0.484800      0.630000      0.194000     17.000000    115.000000   \n",
              " 75%        0.621200      0.780000      0.253700     48.000000    220.000000   \n",
              " max        1.000000      1.000000      0.850700    367.000000    886.000000   \n",
              " \n",
              "                 cnt  \n",
              " count  17379.000000  \n",
              " mean     189.463088  \n",
              " std      181.387599  \n",
              " min        1.000000  \n",
              " 25%       40.000000  \n",
              " 50%      142.000000  \n",
              " 75%      281.000000  \n",
              " max      977.000000  ,\n",
              "           instant      season          yr        mnth     holiday     weekday  \\\n",
              " count  731.000000  731.000000  731.000000  731.000000  731.000000  731.000000   \n",
              " mean   366.000000    2.496580    0.500684    6.519836    0.028728    2.997264   \n",
              " std    211.165812    1.110807    0.500342    3.451913    0.167155    2.004787   \n",
              " min      1.000000    1.000000    0.000000    1.000000    0.000000    0.000000   \n",
              " 25%    183.500000    2.000000    0.000000    4.000000    0.000000    1.000000   \n",
              " 50%    366.000000    3.000000    1.000000    7.000000    0.000000    3.000000   \n",
              " 75%    548.500000    3.000000    1.000000   10.000000    0.000000    5.000000   \n",
              " max    731.000000    4.000000    1.000000   12.000000    1.000000    6.000000   \n",
              " \n",
              "        workingday  weathersit        temp       atemp         hum   windspeed  \\\n",
              " count  731.000000  731.000000  731.000000  731.000000  731.000000  731.000000   \n",
              " mean     0.683995    1.395349    0.495385    0.474354    0.627894    0.190486   \n",
              " std      0.465233    0.544894    0.183051    0.162961    0.142429    0.077498   \n",
              " min      0.000000    1.000000    0.059130    0.079070    0.000000    0.022392   \n",
              " 25%      0.000000    1.000000    0.337083    0.337842    0.520000    0.134950   \n",
              " 50%      1.000000    1.000000    0.498333    0.486733    0.626667    0.180975   \n",
              " 75%      1.000000    2.000000    0.655417    0.608602    0.730209    0.233214   \n",
              " max      1.000000    3.000000    0.861667    0.840896    0.972500    0.507463   \n",
              " \n",
              "             casual   registered          cnt  \n",
              " count   731.000000   731.000000   731.000000  \n",
              " mean    848.176471  3656.172367  4504.348837  \n",
              " std     686.622488  1560.256377  1937.211452  \n",
              " min       2.000000    20.000000    22.000000  \n",
              " 25%     315.500000  2497.000000  3152.000000  \n",
              " 50%     713.000000  3662.000000  4548.000000  \n",
              " 75%    1096.000000  4776.500000  5956.000000  \n",
              " max    3410.000000  6946.000000  8714.000000  )"
            ]
          },
          "metadata": {},
          "execution_count": 43
        }
      ]
    },
    {
      "cell_type": "markdown",
      "metadata": {
        "id": "RReWFTD0otme"
      },
      "source": [
        "### **Insight:**\n",
        "Analisis Data Peminjaman Sepeda\n",
        "\n",
        "Distribusi jumlah peminjaman sepeda menunjukkan variasi yang cukup tinggi. Pada dataset per jam (hour_df), rata-rata peminjaman adalah 189 sepeda/jam, dengan minimum 1 sepeda/jam dan maksimum 977 sepeda/jam. Distribusi peminjaman sangat bervariasi, terlihat dari standar deviasi yang cukup tinggi (181 sepeda/jam) serta nilai Q1 (40 sepeda/jam) dan Q3 (281 sepeda/jam), yang menunjukkan bahwa mayoritas peminjaman cenderung rendah. Sementara itu, pada dataset per hari (day_df), rata-rata peminjaman mencapai 4.504 sepeda/hari, dengan minimum 22 sepeda/hari dan maksimum 8.714 sepeda/hari, serta standar deviasi yang tinggi (1.937 sepeda/hari), menandakan adanya fluktuasi besar antarhari.\n",
        "\n",
        "Dari pola peminjaman, peminjam terdaftar (registered) lebih dominan dibandingkan peminjam casual (casual). Pada hour_df, rata-rata peminjaman casual hanya 35 sepeda/jam (maksimum 367 sepeda/jam), sedangkan peminjam terdaftar rata-rata 153 sepeda/jam (maksimum 886 sepeda/jam). Pada day_df, rata-rata peminjaman casual 848 sepeda/hari (maksimum 3.410 sepeda/hari), sedangkan peminjam terdaftar 3.656 sepeda/hari (maksimum 6.946 sepeda/hari). Peminjam casual juga memiliki variabilitas yang lebih tinggi dibandingkan peminjam terdaftar.\n",
        "\n",
        "Faktor waktu juga memengaruhi peminjaman. Berdasarkan musim (season), nilai rata-rata 2.5 menunjukkan distribusi yang cukup merata di semua musim, meskipun jumlah peminjaman bisa berbeda antar musim. Dari segi tahun (yr), dataset mencakup dua tahun (2011 dan 2012), dengan distribusi yang cukup seimbang (rata-rata 0.5). Distribusi jam (hr) dalam hour_df menunjukkan pola normal dengan median sekitar pukul 12 siang, yang mengindikasikan kemungkinan puncak peminjaman di siang hari.\n",
        "\n",
        "Faktor lingkungan juga berpengaruh. Dari segi cuaca (weathersit), mayoritas data mencatat kondisi cerah (1), berawan (2), atau hujan ringan (3), sementara kondisi ekstrem (weathersit = 4) sangat jarang terjadi. Suhu (temp) dan suhu terasa (atemp) memiliki rata-rata sekitar 0.49 dan 0.47 (skala normalisasi), dengan distribusi yang relatif normal. Kelembaban (hum) rata-rata 63%, dengan beberapa nilai 0% yang mungkin merupakan anomali atau kesalahan pencatatan. Kecepatan angin (windspeed) rata-rata 19%, dengan beberapa nilai 0%, yang bisa jadi disebabkan oleh pencatatan yang tidak akurat atau kondisi tanpa angin.\n",
        "\n",
        "Dari aspek hari libur dan hari kerja, rata-rata nilai holiday sebesar 0.028 menunjukkan bahwa hanya 2.8% dari data yang merupakan hari libur. Sebaliknya, nilai workingday sebesar 0.68 menandakan bahwa 68% dari data merupakan hari kerja. Peminjaman sepeda cenderung lebih tinggi pada hari kerja dibandingkan hari libur, terutama untuk peminjam terdaftar yang menggunakannya sebagai alat transportasi komuter."
      ]
    },
    {
      "cell_type": "markdown",
      "metadata": {
        "id": "x5DjFN8Zotme"
      },
      "source": [
        "# **Visualization & Explanatory Analysis**"
      ]
    },
    {
      "cell_type": "markdown",
      "metadata": {
        "id": "uRx4aLdDotme"
      },
      "source": [
        "## **Pertanyaan 1: Bagaimana pola penggunaan sepeda berdasarkan waktu?**"
      ]
    },
    {
      "cell_type": "code",
      "metadata": {
        "colab": {
          "base_uri": "https://localhost:8080/",
          "height": 487
        },
        "id": "121vUAqdotme",
        "outputId": "5cc4c886-03bb-49b9-ea95-8d6bb4564264"
      },
      "source": [
        "plt.figure(figsize=(12, 5))\n",
        "sns.lineplot(data=hour_df, x='hr', y='cnt', estimator='mean', errorbar=None)\n",
        "plt.title('Rata-rata Jumlah Peminjaman Sepeda per Jam')\n",
        "plt.xlabel('Jam')\n",
        "plt.ylabel('Jumlah Peminjaman')\n",
        "plt.xticks(range(0, 24))\n",
        "plt.show()"
      ],
      "execution_count": null,
      "outputs": [
        {
          "output_type": "display_data",
          "data": {
            "text/plain": [
              "<Figure size 1200x500 with 1 Axes>"
            ],
            "image/png": "[encoded data removed]"
          },
          "metadata": {}
        }
      ]
    },
    {
      "cell_type": "markdown",
      "metadata": {
        "id": "bX6BFIzaotme"
      },
      "source": [
        "## **Pertanyaan 2: Bagaimana pengaruh cuaca terhadap jumlah peminjaman sepeda?**"
      ]
    },
    {
      "cell_type": "code",
      "metadata": {
        "colab": {
          "base_uri": "https://localhost:8080/",
          "height": 487
        },
        "id": "LI88pQGwotme",
        "outputId": "0530e533-d141-4f65-8903-f850bdeb93ad"
      },
      "source": [
        "plt.figure(figsize=(12, 5))\n",
        "sns.boxplot(data=day_df, x='weathersit', y='cnt')\n",
        "plt.title('Distribusi Peminjaman Sepeda Berdasarkan Kondisi Cuaca')\n",
        "plt.xlabel('Kondisi Cuaca (1=Baik, 2=Normal, 3=Buruk, 4=Sangat Buruk)')\n",
        "plt.ylabel('Jumlah Peminjaman')\n",
        "plt.show()"
      ],
      "execution_count": null,
      "outputs": [
        {
          "output_type": "display_data",
          "data": {
            "text/plain": [
              "<Figure size 1200x500 with 1 Axes>"
            ],
            "image/png": "[encoded data removed]"
          },
          "metadata": {}
        }
      ]
    },
    {
      "cell_type": "markdown",
      "metadata": {
        "id": "d1qRakKYotme"
      },
      "source": [
        "### **Insight:**\n",
        "1. Pola Penggunaan Sepeda Berdasarkan Waktu\n",
        "- Grafik: Rata-rata jumlah peminjaman sepeda per jam\n",
        "\n",
        " - Pola peminjaman menunjukkan dua puncak utama:\n",
        "  - Puncak pagi (sekitar jam 8 pagi) → kemungkinan karena aktivitas komuter saat berangkat kerja/sekolah.\n",
        "  - Puncak sore (sekitar jam 5–6 sore) → menunjukkan aktivitas pulang kerja/sekolah.\n",
        "- Setelah jam 8 malam, peminjaman sepeda menurun drastis.\n",
        "- Peminjaman paling rendah terjadi antara jam 0:00–5:00 pagi, kemungkinan karena jam ini bukan jam aktif masyarakat.\n",
        "\n",
        "2. Pengaruh Cuaca terhadap Peminjaman Sepeda\n",
        "- Grafik: Distribusi peminjaman sepeda berdasarkan kondisi cuaca\n",
        "  - Kondisi cuaca yang baik (weathersit = 1) memiliki median peminjaman tertinggi dan distribusi lebih luas, menunjukkan jumlah peminjaman yang tinggi.\n",
        "  - Saat cuaca sedang (weathersit = 2), jumlah peminjaman menurun tetapi masih cukup signifikan.\n",
        "  - Cuaca buruk (weathersit = 3) menyebabkan jumlah peminjaman menurun drastis.\n",
        "  - Cuaca sangat buruk (weathersit = 4) hampir tidak ada data peminjaman → kemungkinan besar karena kondisi ekstrem seperti hujan deras atau badai.\n"
      ]
    },
    {
      "cell_type": "markdown",
      "metadata": {
        "id": "pgp4sFGLotmf"
      },
      "source": [
        "# **Conclusion**\n",
        "- **Conclusion pertanyaan 1:** Bagaimana pola penggunaan sepeda berdasarkan waktu?\n",
        "  - Peminjaman sepeda mengikuti pola aktivitas harian, dengan dua puncak utama:\n",
        "    - Pagi (sekitar jam 8) → kemungkinan karena perjalanan ke kantor/sekolah.\n",
        "    - Sore (sekitar jam 5–6) → menunjukkan aktivitas pulang kerja/sekolah.\n",
        "  - Peminjaman menurun drastis setelah jam 8 malam dan sangat rendah pada dini hari.\n",
        "  - Waktu memiliki korelasi tinggi dengan jumlah - peminjaman karena berkaitan dengan kebiasaan masyarakat.\n",
        "  - Implikasi: Penyedia layanan dapat menyesuaikan ketersediaan sepeda berdasarkan jam sibuk untuk meningkatkan efisiensi.\n",
        "- **Conclusion pertanyaan 2:** Bagaimana pengaruh cuaca terhadap jumlah peminjaman sepeda?\n",
        "  - Cuaca memiliki dampak signifikan terhadap peminjaman sepeda.\n",
        "  - Saat cuaca cerah (weathersit = 1), jumlah peminjaman tertinggi.\n",
        "  - Saat cuaca kurang baik (weathersit = 2 atau 3), peminjaman menurun.\n",
        "  - Cuaca sangat buruk (weathersit = 4) menyebabkan hampir tidak ada peminjaman sepeda.\n",
        "  - Implikasi: Layanan bike-sharing bisa mempertimbangkan faktor cuaca dalam perencanaan operasional, misalnya dengan memberikan insentif saat cuaca mendung atau hujan ringan untuk tetap menarik pengguna.\n"
      ]
    }
  ],
  "metadata": {
    "kernelspec": {
      "display_name": "Python 3",
      "language": "python",
      "name": "python3"
    },
    "language_info": {
      "name": "python",
      "version": "3.8"
    },
    "colab": {
      "provenance": []
    }
  },
  "nbformat": 4,
  "nbformat_minor": 0
}